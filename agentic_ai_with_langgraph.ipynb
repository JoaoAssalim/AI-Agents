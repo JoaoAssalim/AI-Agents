{
 "cells": [
  {
   "cell_type": "code",
   "execution_count": 147,
   "metadata": {},
   "outputs": [],
   "source": [
    "__author__ = \"João Vitor Ramos Assalim\"\n",
    "__version__ = \"1.0.0\"\n",
    "__maintainer__ = \"João Vitor Ramos Assalim\"\n",
    "__email__ = \"joassalim@gmail.com\"\n",
    "__status__ = \"in development\""
   ]
  },
  {
   "cell_type": "code",
   "execution_count": 133,
   "metadata": {},
   "outputs": [],
   "source": [
    "# The main idea of this project is to build an agentic AI system to solve problems"
   ]
  },
  {
   "cell_type": "code",
   "execution_count": 134,
   "metadata": {},
   "outputs": [],
   "source": [
    "from langchain_core.prompts.prompt import PromptTemplate\n",
    "from langchain_community.tools.tavily_search import TavilySearchResults\n",
    "from langchain_groq import ChatGroq\n",
    "from langchain_core.messages.base import BaseMessage\n",
    "from langchain_core.output_parsers.json import JsonOutputParser\n",
    "\n",
    "from langgraph.graph import END, StateGraph\n",
    "\n",
    "from typing_extensions import TypedDict\n",
    "from typing import List"
   ]
  },
  {
   "cell_type": "code",
   "execution_count": 135,
   "metadata": {},
   "outputs": [],
   "source": [
    "web_search_tool = TavilySearchResults(max_results=3)"
   ]
  },
  {
   "cell_type": "code",
   "execution_count": 136,
   "metadata": {},
   "outputs": [],
   "source": [
    "lmm = ChatGroq(model=\"llama3-70b-8192\")"
   ]
  },
  {
   "cell_type": "code",
   "execution_count": 137,
   "metadata": {},
   "outputs": [],
   "source": [
    "class GraphState(TypedDict):\n",
    "    message : str\n",
    "    context: str\n",
    "    relevant_context: str\n",
    "    response: str"
   ]
  },
  {
   "cell_type": "code",
   "execution_count": 138,
   "metadata": {},
   "outputs": [],
   "source": [
    "class AgentHandler:\n",
    "    def __init__(self):\n",
    "        pass\n",
    "    \n",
    "    \n",
    "    def build_summarizer_prompt(self):\n",
    "        prompt = PromptTemplate(\n",
    "            template=\"\"\"\n",
    "            You are an expert at build responses and summarize them. \\n\n",
    "            \n",
    "            If the context is is null, you can use your knowledge base to answer it.\n",
    "            If the context is not null, follow it to answer and improve it, but NEVER change the context and NEVER change meaning of the question to get a better answer.\n",
    "            \n",
    "            Always try to be clear and concise, and avoid adding unnecessary information.\n",
    "            \n",
    "            JUST ANSWER THE QUESTION, without any preamble or explaination and return the a JSON with a single key 'agent_summarization'. \\n\\n\n",
    "            \n",
    "            QUERY: {query} \\n\\n\n",
    "            CONTEXT: {context}\"\"\",\n",
    "            \n",
    "            input_variables=[\n",
    "                \"query\",\n",
    "                \"context\",\n",
    "            ],\n",
    "        )\n",
    "        \n",
    "        return prompt\n",
    "\n",
    "\n",
    "    def build_summarizer_router(self):\n",
    "        summarizer_promp = self.build_summarizer_prompt()\n",
    "        summarizer_router = summarizer_promp | lmm | JsonOutputParser()\n",
    "        \n",
    "        return summarizer_router\n",
    "    \n",
    "    \n",
    "    def retrieve_context_info(self, state):\n",
    "        query = state[\"message\"]\n",
    "        \n",
    "        # implement a function to get context info from a vector database\n",
    "        \n",
    "        return {\"context\": \"\", \"relevant_context\": \"not_relevant\"} # return relevant if context is relevant, not_relevant if not\n",
    "\n",
    "\n",
    "    def search_info_by_query(self, state):\n",
    "        query = state[\"message\"]\n",
    "        search_results = web_search_tool.invoke({\"query\": query})\n",
    "        \n",
    "        return {\"context\": \"\\n\".join([result[\"content\"] for result in search_results])}\n",
    "    \n",
    "    \n",
    "    def route_to_search(self, state):\n",
    "        relevant_context = state[\"relevant_context\"]\n",
    "        \n",
    "        if relevant_context == \"not_relevant\":\n",
    "            return \"research_info\"\n",
    "        return \"draft_question\"\n",
    "        \n",
    "        return search_results\n",
    "    \n",
    "    \n",
    "    def summarize_response(self, state):\n",
    "        summarizer_router = self.build_summarizer_router()\n",
    "        \n",
    "        query = state[\"message\"]\n",
    "        context = state[\"context\"]\n",
    "        \n",
    "        response = summarizer_router.invoke({\"query\": query, \"context\": context})\n",
    "        \n",
    "        return {\"response\": response[\"agent_summarization\"]}"
   ]
  },
  {
   "cell_type": "code",
   "execution_count": 139,
   "metadata": {},
   "outputs": [
    {
     "data": {
      "text/plain": [
       "<langgraph.graph.state.StateGraph at 0x18834d325e0>"
      ]
     },
     "execution_count": 139,
     "metadata": {},
     "output_type": "execute_result"
    }
   ],
   "source": [
    "agent_handler = AgentHandler()\n",
    "\n",
    "workflow = StateGraph(GraphState)\n",
    "workflow.add_node(\"retrieve_context\", agent_handler.retrieve_context_info)\n",
    "workflow.add_node(\"research_info_search\", agent_handler.search_info_by_query)\n",
    "workflow.add_node(\"summarize_response\", agent_handler.summarize_response)"
   ]
  },
  {
   "cell_type": "code",
   "execution_count": 140,
   "metadata": {},
   "outputs": [
    {
     "data": {
      "text/plain": [
       "<langgraph.graph.state.StateGraph at 0x18834d325e0>"
      ]
     },
     "execution_count": 140,
     "metadata": {},
     "output_type": "execute_result"
    }
   ],
   "source": [
    "workflow.set_entry_point(\"retrieve_context\")\n",
    "\n",
    "workflow.add_conditional_edges(\n",
    "    \"retrieve_context\",\n",
    "    agent_handler.route_to_search,\n",
    "    {\n",
    "        \"research_info\": \"research_info_search\",\n",
    "        \"draft_question\": \"summarize_response\",\n",
    "    },\n",
    ")\n",
    "workflow.add_edge(\"research_info_search\", \"summarize_response\")\n",
    "\n",
    "\n",
    "workflow.add_edge(\"summarize_response\", END)"
   ]
  },
  {
   "cell_type": "code",
   "execution_count": 141,
   "metadata": {},
   "outputs": [],
   "source": [
    "app = workflow.compile()"
   ]
  },
  {
   "cell_type": "code",
   "execution_count": 142,
   "metadata": {},
   "outputs": [
    {
     "data": {
      "image/png": "[encoded data removed]",
      "text/plain": [
       "<IPython.core.display.Image object>"
      ]
     },
     "metadata": {},
     "output_type": "display_data"
    }
   ],
   "source": [
    "from IPython.display import Image, display\n",
    "\n",
    "display(Image(app.get_graph().draw_mermaid_png()))"
   ]
  },
  {
   "cell_type": "code",
   "execution_count": 146,
   "metadata": {},
   "outputs": [
    {
     "data": {
      "text/plain": [
       "'Lionel Messi is playing for Inter Miami.'"
      ]
     },
     "execution_count": 146,
     "metadata": {},
     "output_type": "execute_result"
    }
   ],
   "source": [
    "inputs = {\"message\": \"Where Messi is playing?\"}\n",
    "output = app.invoke(inputs)\n",
    "output[\"response\"]"
   ]
  },
  {
   "cell_type": "code",
   "execution_count": null,
   "metadata": {},
   "outputs": [],
   "source": []
  }
 ],
 "metadata": {
  "kernelspec": {
   "display_name": "Python 3",
   "language": "python",
   "name": "python3"
  },
  "language_info": {
   "codemirror_mode": {
    "name": "ipython",
    "version": 3
   },
   "file_extension": ".py",
   "mimetype": "text/x-python",
   "name": "python",
   "nbconvert_exporter": "python",
   "pygments_lexer": "ipython3",
   "version": "3.9.10"
  }
 },
 "nbformat": 4,
 "nbformat_minor": 2
}
