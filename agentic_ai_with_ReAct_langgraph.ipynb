{
 "cells": [
  {
   "cell_type": "code",
   "execution_count": 38,
   "metadata": {},
   "outputs": [],
   "source": [
    "from langchain_community.tools.tavily_search import TavilySearchResults\n",
    "from langchain_groq import ChatGroq\n",
    "from langchain_core.tools import tool\n",
    "\n",
    "from langgraph.prebuilt import create_react_agent"
   ]
  },
  {
   "cell_type": "code",
   "execution_count": 40,
   "metadata": {},
   "outputs": [],
   "source": [
    "lmm = ChatGroq(model=\"llama3-70b-8192\")"
   ]
  },
  {
   "cell_type": "code",
   "execution_count": 41,
   "metadata": {},
   "outputs": [],
   "source": [
    "@tool\n",
    "def get_context_on_web(question):\n",
    "    \"\"\"Use this to search on web about the user question if you cannot get any relevant context from database\"\"\"\n",
    "    web_search_tool = TavilySearchResults(max_results=3)\n",
    "    search_results = web_search_tool.invoke({\"query\": question})\n",
    "        \n",
    "    return \"\\n\".join([result[\"content\"] for result in search_results])"
   ]
  },
  {
   "cell_type": "code",
   "execution_count": 42,
   "metadata": {},
   "outputs": [],
   "source": [
    "tools = [get_context_on_web]"
   ]
  },
  {
   "cell_type": "code",
   "execution_count": 43,
   "metadata": {},
   "outputs": [],
   "source": [
    "graph = create_react_agent(lmm, tools=tools)"
   ]
  },
  {
   "cell_type": "code",
   "execution_count": 45,
   "metadata": {},
   "outputs": [],
   "source": [
    "def print_stream(stream):\n",
    "    for s in stream:\n",
    "        message = s[\"messages\"][-1]\n",
    "        if isinstance(message, tuple):\n",
    "            print(message)\n",
    "        else:\n",
    "            message.pretty_print()"
   ]
  },
  {
   "cell_type": "code",
   "execution_count": 46,
   "metadata": {},
   "outputs": [
    {
     "name": "stdout",
     "output_type": "stream",
     "text": [
      "================================\u001b[1m Human Message \u001b[0m=================================\n",
      "\n",
      "Who is João Assalim?\n",
      "==================================\u001b[1m Ai Message \u001b[0m==================================\n",
      "Tool Calls:\n",
      "  get_context_on_database (call_scvj)\n",
      " Call ID: call_scvj\n",
      "  Args:\n",
      "    question: Who is João Assalim\n",
      "=================================\u001b[1m Tool Message \u001b[0m=================================\n",
      "Name: get_context_on_database\n",
      "\n",
      "João Assalim is a backend programmer with three years of experience, primarily working with Python and Django for backend development, along with JavaScript. He is also expanding his skills to include React Native for mobile development. He is a passionate and driven System Analysis student at Fatec Ourinhos, proficient in freelance backend development using Django, Python, and Java. He is actively pursuing a comprehensive understanding of Machine Learning and Artificial Intelligence.\n",
      "==================================\u001b[1m Ai Message \u001b[0m==================================\n",
      "\n",
      "Based on the tool call result, I can provide a direct response.\n",
      "\n",
      "João Assalim is a backend programmer with three years of experience, primarily working with Python and Django for backend development, along with JavaScript. He is also expanding his skills to include React Native for mobile development.\n"
     ]
    }
   ],
   "source": [
    "inputs = {\"messages\": [(\"user\", \"Who is João Assalim?\")]}\n",
    "print_stream(graph.stream(inputs, stream_mode=\"values\"))"
   ]
  },
  {
   "cell_type": "code",
   "execution_count": null,
   "metadata": {},
   "outputs": [],
   "source": []
  }
 ],
 "metadata": {
  "kernelspec": {
   "display_name": "venv",
   "language": "python",
   "name": "python3"
  },
  "language_info": {
   "codemirror_mode": {
    "name": "ipython",
    "version": 3
   },
   "file_extension": ".py",
   "mimetype": "text/x-python",
   "name": "python",
   "nbconvert_exporter": "python",
   "pygments_lexer": "ipython3",
   "version": "3.9.10"
  }
 },
 "nbformat": 4,
 "nbformat_minor": 2
}
